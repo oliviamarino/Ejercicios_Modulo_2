{
 "cells": [
  {
   "cell_type": "code",
   "execution_count": 20,
   "metadata": {},
   "outputs": [],
   "source": [
    "import numpy as np"
   ]
  },
  {
   "cell_type": "markdown",
   "metadata": {},
   "source": [
    "EJERCICIO 1: Cread un array de tres dimensiones de 2 matrices, 3 filas y 5 columnas cuyos valores solo tengan 1 decimales."
   ]
  },
  {
   "cell_type": "code",
   "execution_count": 21,
   "metadata": {},
   "outputs": [
    {
     "data": {
      "text/plain": [
       "array([[[0.3, 1. , 0.9, 0.2, 0.2],\n",
       "        [0.6, 0.9, 1. , 0.6, 0.9],\n",
       "        [0.6, 0.6, 0.7, 0.5, 0.8]],\n",
       "\n",
       "       [[0.4, 0.4, 0.9, 1. , 0.4],\n",
       "        [0.1, 0.7, 0.2, 0.1, 0.1],\n",
       "        [0. , 0.9, 0.2, 0.7, 0.5]]])"
      ]
     },
     "execution_count": 21,
     "metadata": {},
     "output_type": "execute_result"
    }
   ],
   "source": [
    "matriz = np.random.rand(2,3,5)\n",
    "matriz =np.round(matriz, decimals=1)\n",
    "matriz"
   ]
  },
  {
   "cell_type": "markdown",
   "metadata": {},
   "source": [
    "EJERCICIO 2: Calculad la media del array y almacenarlos en una variable. Redondead a un decimal."
   ]
  },
  {
   "cell_type": "code",
   "execution_count": 22,
   "metadata": {},
   "outputs": [
    {
     "name": "stdout",
     "output_type": "stream",
     "text": [
      "La media del array es: 0.5\n"
     ]
    }
   ],
   "source": [
    "media_matriz = np.mean(matriz)\n",
    "media_matriz = np.round(media_matriz, decimals = 1)\n",
    "print('La media del array es:', media_matriz)\n"
   ]
  },
  {
   "cell_type": "markdown",
   "metadata": {},
   "source": [
    "EJERCICIO 3: Calculad el valor máximo del array y almacenarlos en una variable. Redondead a un decimal."
   ]
  },
  {
   "cell_type": "code",
   "execution_count": 23,
   "metadata": {},
   "outputs": [
    {
     "name": "stdout",
     "output_type": "stream",
     "text": [
      "El numero máximo del array es: 1.0\n"
     ]
    }
   ],
   "source": [
    "max_matriz = np.max(matriz)\n",
    "max_matriz = np.round(max_matriz, decimals = 1)\n",
    "print('El numero máximo del array es:', max_matriz)"
   ]
  },
  {
   "cell_type": "markdown",
   "metadata": {},
   "source": [
    "EJERCICIO 4: Calculad el valor mínimo del array y almacenarlos en una variable. Redondead a un decimal."
   ]
  },
  {
   "cell_type": "code",
   "execution_count": 24,
   "metadata": {},
   "outputs": [
    {
     "name": "stdout",
     "output_type": "stream",
     "text": [
      "El numero mínimo del array es: 0.0\n"
     ]
    }
   ],
   "source": [
    "min_matriz = np.min(matriz)\n",
    "min_matriz = np.round(min_matriz, decimals = 1)\n",
    "print('El numero mínimo del array es:', min_matriz)"
   ]
  },
  {
   "cell_type": "markdown",
   "metadata": {},
   "source": [
    "EJERCICIO 5: Cread un array vacío con la misma forma y dimensiones que el array creado anteriormente.\n",
    "Vamos a reemplazar los valores de la matriz vacía que nos acabamos de crear pero basándonos en los valores del primer array bajo las siguientes condiciones:\n",
    "Si el valor del array es igual que la media, se reemplaza por \"A\".\n",
    "Si el valor del array es mayor que la media, se reemplaza por \"B\".\n",
    "Si el valor del array es menor que la media, se reemplaza por \"C\".\n",
    "Si el valor es igual que el máximo, se reemplaza por \"D\".\n",
    "Si el valor es igual que el mínimo, se reemplaza por \"E\"."
   ]
  },
  {
   "cell_type": "code",
   "execution_count": 25,
   "metadata": {},
   "outputs": [
    {
     "data": {
      "text/plain": [
       "array([[['C', 'D', 'B', 'C', 'C'],\n",
       "        ['B', 'B', 'D', 'B', 'B'],\n",
       "        ['B', 'B', 'B', 'A', 'B']],\n",
       "\n",
       "       [['C', 'C', 'B', 'D', 'C'],\n",
       "        ['C', 'B', 'C', 'C', 'C'],\n",
       "        ['E', 'B', 'C', 'B', 'A']]], dtype='<U1')"
      ]
     },
     "execution_count": 25,
     "metadata": {},
     "output_type": "execute_result"
    }
   ],
   "source": [
    "matriz_vacia = np.empty_like((matriz), str)\n",
    "matriz_vacia\n",
    "\n",
    "for bloque in range(matriz.shape[0]):\n",
    "    for fila in range(matriz.shape[1]):\n",
    "        for columna in range(matriz.shape[2]):\n",
    "            if matriz[bloque][fila][columna] == media_matriz:\n",
    "                matriz_vacia[bloque][fila][columna] = \"A\"\n",
    "            elif matriz[bloque][fila][columna] == max_matriz:\n",
    "                matriz_vacia[bloque][fila][columna] = \"D\"\n",
    "            elif matriz[bloque][fila][columna] == min_matriz:\n",
    "                matriz_vacia[bloque][fila][columna] = \"E\"\n",
    "            elif matriz[bloque][fila][columna] > media_matriz:\n",
    "                matriz_vacia[bloque][fila][columna] = \"B\"\n",
    "            elif matriz[bloque][fila][columna] < media_matriz:\n",
    "                matriz_vacia[bloque][fila][columna] = \"C\"\n",
    "\n",
    "matriz_vacia\n",
    "        \n"
   ]
  },
  {
   "cell_type": "markdown",
   "metadata": {},
   "source": [
    "EJERCICIO 6: Estupendo, tenemos un array con strings. Ahora realizaremos un ejercicio similar al anterior, pero en este caso nos crearemos un array vacío unidimensional de 30 elementos. Al final de este ejercicio acabaremos teniendo un array de tres dimensiones con la misma forma que el primero que nos creamos.\n",
    "En este caso:\n",
    "Si el valor del array creado en el ejercicio anterior es \"A\" o \"B\" lo reemplazaremos por 1\n",
    "Si el valor del array creado en el ejercicio anterior es \"C\" o \"D\" lo reemplazaremos por 2\n",
    "Si el valor del array creado en el ejercicio anterior es \"E\" lo reemplazaremos por 3.\n",
    "Una vez que hayas reemplazado todos los valores cambiad la forma del array para que sea de tres dimensiones, con 2 matrices, 3 filas y 5 columnas."
   ]
  },
  {
   "cell_type": "code",
   "execution_count": 29,
   "metadata": {},
   "outputs": [
    {
     "data": {
      "text/plain": [
       "array([2, 2, 1, 2, 2, 1, 1, 2, 1, 1, 1, 1, 1, 1, 1, 2, 2, 1, 2, 2, 2, 1,\n",
       "       2, 2, 2, 3, 1, 2, 1, 1])"
      ]
     },
     "execution_count": 29,
     "metadata": {},
     "output_type": "execute_result"
    }
   ],
   "source": [
    "array_vacio = np.empty(shape = 30, dtype = int)\n",
    "index = 0\n",
    "\n",
    "for bloque in range(matriz_vacia.shape[0]):\n",
    "    for fila in range(matriz_vacia.shape[1]):\n",
    "        for columna in range(matriz_vacia.shape[2]):\n",
    "            letra = matriz_vacia[bloque][fila][columna]\n",
    "\n",
    "            if letra == 'A' or letra == 'B':\n",
    "                n=1\n",
    "            elif letra == 'C' or letra == 'D':\n",
    "                n=2\n",
    "            else:\n",
    "                n=3\n",
    "\n",
    "            array_vacio[index] = n\n",
    "            index += 1\n",
    "\n",
    "array_vacio"
   ]
  },
  {
   "cell_type": "code",
   "execution_count": 31,
   "metadata": {},
   "outputs": [
    {
     "data": {
      "text/plain": [
       "array([[[2, 2, 1, 2, 2],\n",
       "        [1, 1, 2, 1, 1],\n",
       "        [1, 1, 1, 1, 1]],\n",
       "\n",
       "       [[2, 2, 1, 2, 2],\n",
       "        [2, 1, 2, 2, 2],\n",
       "        [3, 1, 2, 1, 1]]])"
      ]
     },
     "execution_count": 31,
     "metadata": {},
     "output_type": "execute_result"
    }
   ],
   "source": [
    "array_vacio = np.reshape(array_vacio,(2,3,5))\n",
    "array_vacio"
   ]
  }
 ],
 "metadata": {
  "interpreter": {
   "hash": "ef996a58dd4038b19127a5b342ff558a720418179ddf7c29df6339888c2ae8ac"
  },
  "kernelspec": {
   "display_name": "Python 3.9.7 ('base')",
   "language": "python",
   "name": "python3"
  },
  "language_info": {
   "codemirror_mode": {
    "name": "ipython",
    "version": 3
   },
   "file_extension": ".py",
   "mimetype": "text/x-python",
   "name": "python",
   "nbconvert_exporter": "python",
   "pygments_lexer": "ipython3",
   "version": "3.9.7"
  },
  "orig_nbformat": 4
 },
 "nbformat": 4,
 "nbformat_minor": 2
}
