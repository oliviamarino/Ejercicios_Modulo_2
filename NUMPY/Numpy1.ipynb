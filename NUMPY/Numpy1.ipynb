{
 "cells": [
  {
   "cell_type": "code",
   "execution_count": 2,
   "metadata": {},
   "outputs": [],
   "source": [
    "import numpy as np"
   ]
  },
  {
   "cell_type": "markdown",
   "metadata": {},
   "source": [
    "EJERCICIO 1: Cread tres arrays: de una, dos y tres dimensiones.\n",
    "Lo podéis hacer usando los métodos de random que hemos aprendido o a través de listas em algunos casos.\n",
    "📌 Nota\n",
    "El array de 2 dimensiones debe ser de 2 filas y 3 columnas\n",
    "El array de 3 dimensiones debe ser de 2 matrices, 3 filas y 5 columnas"
   ]
  },
  {
   "cell_type": "code",
   "execution_count": 3,
   "metadata": {},
   "outputs": [
    {
     "data": {
      "text/plain": [
       "array([[[52, 73, 33, 11, 99],\n",
       "        [24, 42, 99, 25,  5],\n",
       "        [29,  5, 69,  5, 81]],\n",
       "\n",
       "       [[57,  7, 88, 19, 29],\n",
       "        [41, 85, 46, 60,  4],\n",
       "        [81,  2, 24,  5, 42]]])"
      ]
     },
     "execution_count": 3,
     "metadata": {},
     "output_type": "execute_result"
    }
   ],
   "source": [
    "lista1 = [1,2,3,4,5,6,7,8,9,10]\n",
    "ej1_1 = np.array(lista1)\n",
    "ej1_1\n",
    "\n",
    "ej1_2 = np.random.randint(0,100, (2,3))\n",
    "ej1_2\n",
    "\n",
    "ej1_3 = np.random.randint(0,100, (2,3,5))\n",
    "ej1_3\n"
   ]
  },
  {
   "cell_type": "markdown",
   "metadata": {},
   "source": [
    "EJERCICIO 2: Chequed las las propiedades básicas de cada array que os hayáis creado. Usad en una función que nos devuelva las propiedades de una array que le pasemos."
   ]
  },
  {
   "cell_type": "code",
   "execution_count": 4,
   "metadata": {},
   "outputs": [
    {
     "name": "stdout",
     "output_type": "stream",
     "text": [
      "1\n",
      "int64\n",
      "(10,)\n",
      "10\n"
     ]
    }
   ],
   "source": [
    "def propiedades_array(array):\n",
    "    print(array.ndim)\n",
    "    print(array.dtype)\n",
    "    print(array.shape)\n",
    "    print(array.size)\n",
    "\n",
    "propiedades_array(ej1_1)\n",
    "#propiedades_array(ej1_2)\n"
   ]
  },
  {
   "cell_type": "markdown",
   "metadata": {},
   "source": [
    "EJERCICIO 3: Cread una matriz identidad de dos dimensiones de 3 filas y 3 columnas"
   ]
  },
  {
   "cell_type": "code",
   "execution_count": 5,
   "metadata": {},
   "outputs": [
    {
     "data": {
      "text/plain": [
       "array([[1., 0., 0.],\n",
       "       [0., 1., 0.],\n",
       "       [0., 0., 1.]])"
      ]
     },
     "execution_count": 5,
     "metadata": {},
     "output_type": "execute_result"
    }
   ],
   "source": [
    "ej3 = np.eye(3,3)\n",
    "ej3\n"
   ]
  },
  {
   "cell_type": "markdown",
   "metadata": {},
   "source": [
    "EJERCICIO 4: Cread una matriz de tres dimensiones de unos igual a la martiz de tres dimensiones creada en el primer ejercicio."
   ]
  },
  {
   "cell_type": "code",
   "execution_count": 6,
   "metadata": {},
   "outputs": [
    {
     "data": {
      "text/plain": [
       "array([[[1, 1, 1, 1, 1],\n",
       "        [1, 1, 1, 1, 1],\n",
       "        [1, 1, 1, 1, 1]],\n",
       "\n",
       "       [[1, 1, 1, 1, 1],\n",
       "        [1, 1, 1, 1, 1],\n",
       "        [1, 1, 1, 1, 1]]])"
      ]
     },
     "execution_count": 6,
     "metadata": {},
     "output_type": "execute_result"
    }
   ],
   "source": [
    "ej4 = np.ones_like(ej1_3)\n",
    "ej4\n"
   ]
  },
  {
   "cell_type": "markdown",
   "metadata": {},
   "source": [
    "EJERCICIO 5: Es el momento de hacer algunas operaciones entre arrays\n",
    "¿Se puede sumar el array de dos dimensiones que creamos en el primer ejecicios a la matriz identidad? ¿Por qué?\n",
    "En caso de que no se puedan sumar, busca una solución para sumar una matriz identidad a otra. La solución puede ser crear un array nuevo.\n",
    "Multiplicad la matriz identidad por la nueva matriz que os creasteis en el ejercicio anterior.\n",
    "Dividid las dos matricess"
   ]
  },
  {
   "cell_type": "code",
   "execution_count": 7,
   "metadata": {},
   "outputs": [
    {
     "name": "stdout",
     "output_type": "stream",
     "text": [
      "Shape ej1_2: (2, 3)\n",
      "Shape ej3: (3, 3)\n",
      "No se pueden sumar porque no tienen la misma forma. Devuelve el siguiente error:\n",
      "ej1_2 + ej3 = ValueError: operands could not be broadcast together with shapes (2,3) (3,3)\n",
      "\n",
      "\n",
      "Matriz nueva: \n",
      " [[40 22 94]\n",
      " [64 32 94]\n",
      " [57 17 11]]\n",
      "Suma de matrices: \n",
      " [[41. 22. 94.]\n",
      " [64. 33. 94.]\n",
      " [57. 17. 12.]]\n",
      "Multiplicación matrices: \n",
      " [[40.  0.  0.]\n",
      " [ 0. 32.  0.]\n",
      " [ 0.  0. 11.]]\n",
      "División matrices: \n",
      " [[40. inf inf]\n",
      " [inf 32. inf]\n",
      " [inf inf 11.]]\n"
     ]
    },
    {
     "name": "stderr",
     "output_type": "stream",
     "text": [
      "/tmp/ipykernel_18960/3019674087.py:12: RuntimeWarning: divide by zero encountered in true_divide\n",
      "  ej5_5 = np.divide(matriz_nueva, ej3)\n"
     ]
    }
   ],
   "source": [
    "print('Shape ej1_2:',ej1_2.shape)\n",
    "print('Shape ej3:', ej3.shape)\n",
    "print('No se pueden sumar porque no tienen la misma forma. Devuelve el siguiente error:')\n",
    "print('ej1_2 + ej3 = ValueError: operands could not be broadcast together with shapes (2,3) (3,3)') \n",
    "print('\\n')\n",
    "matriz_nueva = np.random.randint(0,100, (3,3))\n",
    "print('Matriz nueva:', '\\n',matriz_nueva)\n",
    "print('Suma de matrices:', '\\n', ej3 + matriz_nueva)\n",
    "\n",
    "ej5_4 = np.multiply(matriz_nueva, ej3)\n",
    "print('Multiplicación matrices:', '\\n', ej5_4)\n",
    "ej5_5 = np.divide(matriz_nueva, ej3)\n",
    "print('División matrices:', '\\n', ej5_5)\n"
   ]
  }
 ],
 "metadata": {
  "interpreter": {
   "hash": "ef996a58dd4038b19127a5b342ff558a720418179ddf7c29df6339888c2ae8ac"
  },
  "kernelspec": {
   "display_name": "Python 3.9.7 ('base')",
   "language": "python",
   "name": "python3"
  },
  "language_info": {
   "codemirror_mode": {
    "name": "ipython",
    "version": 3
   },
   "file_extension": ".py",
   "mimetype": "text/x-python",
   "name": "python",
   "nbconvert_exporter": "python",
   "pygments_lexer": "ipython3",
   "version": "3.9.7"
  },
  "orig_nbformat": 4
 },
 "nbformat": 4,
 "nbformat_minor": 2
}
