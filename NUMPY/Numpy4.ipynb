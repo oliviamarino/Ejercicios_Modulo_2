{
 "cells": [
  {
   "cell_type": "code",
   "execution_count": 2,
   "metadata": {},
   "outputs": [],
   "source": [
    "import numpy as np"
   ]
  },
  {
   "cell_type": "markdown",
   "metadata": {},
   "source": [
    "EJERCICIO 1: ¿Cómo podemos crear dos arrays de dos dimensiones usando el método random_sample que tengan los mismos valores?"
   ]
  },
  {
   "cell_type": "code",
   "execution_count": 3,
   "metadata": {},
   "outputs": [
    {
     "data": {
      "text/plain": [
       "array([[4.17022005e-01, 7.20324493e-01, 1.14374817e-04],\n",
       "       [3.02332573e-01, 1.46755891e-01, 9.23385948e-02]])"
      ]
     },
     "execution_count": 3,
     "metadata": {},
     "output_type": "execute_result"
    }
   ],
   "source": [
    "np.random.seed(1)\n",
    "array1 = np.random.random_sample((2,3))\n",
    "array1"
   ]
  },
  {
   "cell_type": "code",
   "execution_count": 4,
   "metadata": {},
   "outputs": [
    {
     "data": {
      "text/plain": [
       "array([[4.17022005e-01, 7.20324493e-01, 1.14374817e-04],\n",
       "       [3.02332573e-01, 1.46755891e-01, 9.23385948e-02]])"
      ]
     },
     "execution_count": 4,
     "metadata": {},
     "output_type": "execute_result"
    }
   ],
   "source": [
    "np.random.seed(1)\n",
    "array2 = np.random.random_sample((2,3))\n",
    "array2"
   ]
  },
  {
   "cell_type": "markdown",
   "metadata": {},
   "source": [
    "EJERCICIO 2: Cread los siguientes arrays:\n",
    "- Un array de tres dimensiones con distribución uniforme de 2 x 3 x 5, con números entre 0 y 10, que no tengan decimales y extrae sus valores únicos almacenándolos en una variable.\n",
    "- Un array de tres dimensiones con distribución binomial de 2 x 3 x 5, con probabilidad de 0.3 y número de pruebas igual a 10. Igual que antes guarda los datos en una variable."
   ]
  },
  {
   "cell_type": "code",
   "execution_count": 5,
   "metadata": {},
   "outputs": [
    {
     "data": {
      "text/plain": [
       "array([ 0.,  1.,  2.,  3.,  4.,  5.,  6.,  7.,  8.,  9., 10.])"
      ]
     },
     "execution_count": 5,
     "metadata": {},
     "output_type": "execute_result"
    }
   ],
   "source": [
    "sol = np.random.uniform(0,10,size = (2,3,5))\n",
    "sol = np.round(sol, decimals = 0)\n",
    "sol\n",
    "\n",
    "valores_unicos_sol = np.unique(sol)\n",
    "valores_unicos_sol"
   ]
  },
  {
   "cell_type": "code",
   "execution_count": 6,
   "metadata": {},
   "outputs": [
    {
     "data": {
      "text/plain": [
       "array([0, 1, 2, 3, 4, 5, 6])"
      ]
     },
     "execution_count": 6,
     "metadata": {},
     "output_type": "execute_result"
    }
   ],
   "source": [
    "cielo = np.random.binomial(10, 0.3, size = (2,3,5))\n",
    "cielo\n",
    "\n",
    "valores_unicos_cielo = np.unique(cielo)\n",
    "valores_unicos_cielo"
   ]
  },
  {
   "cell_type": "markdown",
   "metadata": {},
   "source": [
    "EJERCICIO 3: En esta lección hemos aprendido algunos métodos de teórias de conjuntos. Usando los arrays de elementos únicos obtenidos en el ejercicio anterior realizad las siguientes operaciones:\n",
    "\n",
    "- Elementos comunes entre los dos arrays\n",
    "\n",
    "- Unión de los dos arrays\n",
    "\n",
    "- ¿Qué elementos están en el array derivado de la distribución uniforme y no en los únicos de la distribución binomial? Extrae los \n",
    "valores númericos\n",
    "\n",
    "⚠️ Explicar cada uno de los outputs que os salgan. Que significa cada una de estas operaciones que hemos ido extrayendo?"
   ]
  },
  {
   "cell_type": "code",
   "execution_count": 7,
   "metadata": {},
   "outputs": [
    {
     "name": "stdout",
     "output_type": "stream",
     "text": [
      "Intersección de los arrays: [0. 1. 2. 3. 4. 5. 6.] \n",
      "\n",
      "La unión de los arrays: [ 0.  1.  2.  3.  4.  5.  6.  7.  8.  9. 10.] \n",
      "\n",
      "Los valores únicos en sol pero no en cielo: [ 7.  8.  9. 10.]\n"
     ]
    }
   ],
   "source": [
    "interseccion = np.intersect1d(sol,cielo)\n",
    "print('Intersección de los arrays:',interseccion,'\\n') #valores unicos comunes en los dos arrays\n",
    "\n",
    "union = np.union1d(sol, cielo)\n",
    "print('La unión de los arrays:',union,'\\n')            #Une los valores de los arrays sin duplicados\n",
    "\n",
    "diferencia_conjunta = np.setdiff1d(sol, cielo)\n",
    "print('Los valores únicos en sol pero no en cielo:', diferencia_conjunta) #valores únicos que están en sol pero no en cielo\n",
    "                                                                          #si cambiamos el orden de los arrays saldrán los que\n",
    "                                                                          #están en cielo pero no en sol."
   ]
  },
  {
   "cell_type": "markdown",
   "metadata": {},
   "source": [
    "EJERCICIO 4: Cread dos arrays usando el método random.randint de Numpy con 80 elementos cada uno con números del 1-100, con los siguientes nombres array1 y array2.\n",
    "\n",
    "\n"
   ]
  },
  {
   "cell_type": "code",
   "execution_count": 8,
   "metadata": {},
   "outputs": [
    {
     "name": "stdout",
     "output_type": "stream",
     "text": [
      "[52 85 70  2 76 91 21 75  7 77 72 75 76 43 20 30 36  7 45 68 57 82 96 13\n",
      " 10 23 81  7 24 74 92 20 32 12 65 94 60 24 82 97  2 92 98 10 54 96 82 86\n",
      " 70 66 71 48 54 15  5 17 42 20 48 22 13 97 53 84 10 96 55 61 56 89 21 96\n",
      " 83 25 14 13 84 43  6 77]\n",
      "[56 59 15 24  9 66 71 53 69 36 21 40 77 91 49 47 77 40 78 45 87 16 28 45\n",
      " 67 66 78 46  0 29 63 75 35 53 93 33  2 84 83 48 54 32 28 55 82 31 28 94\n",
      " 74  8 99 32  8 84 77 50 79 41 64 83 24 20 44 15 30 91 14 19 26 86  7 99\n",
      " 53 47 60 34 32 19 67 24]\n"
     ]
    }
   ],
   "source": [
    "array_1 = np.random.randint(0,100,(80))\n",
    "print(array_1)\n",
    "\n",
    "array_2 = np.random.randint(0,100,(80))\n",
    "print(array_2)"
   ]
  },
  {
   "cell_type": "markdown",
   "metadata": {},
   "source": [
    "- Extraed los valores únicos de cada uno de los arrays y los guardáis en variables en las que se les llame array1 y array2.\n",
    "\n",
    "- Identificad los elementos presentes en el array1 pero no en el array2 y asiganarlo a una variable que se llame array3.\n",
    "\n",
    "- Identificad los elementos presentes en el array2 pero no en el array1 y asiganarlo a una variable que se llame array4.\n",
    "\n",
    "- Identificad los elementos presentes en ambos arrays y asiganarlos a una variable que se llame array5."
   ]
  },
  {
   "cell_type": "code",
   "execution_count": 9,
   "metadata": {},
   "outputs": [],
   "source": [
    "array_1 = np.unique(array_1)\n",
    "array_2 = np.unique(array_2)\n",
    "array_3 = np.setdiff1d(array_1, array_2)\n",
    "array_4 = np.setdiff1d(array_2, array_1)\n",
    "array_5 = np.intersect1d(array_1, array_2)"
   ]
  },
  {
   "cell_type": "markdown",
   "metadata": {},
   "source": [
    "¿Cuál es la relación que existe entre todos estos arrays? \n",
    "💡 Pista 💡 Tendréis que usar las longitudes de cada uno de los arrays creados."
   ]
  },
  {
   "cell_type": "code",
   "execution_count": 10,
   "metadata": {},
   "outputs": [
    {
     "name": "stdout",
     "output_type": "stream",
     "text": [
      "54\n",
      "57\n",
      "26\n",
      "29\n",
      "28\n",
      "True\n"
     ]
    }
   ],
   "source": [
    "print(len(array_1))\n",
    "print(len(array_2))\n",
    "print(len(array_3))\n",
    "print(len(array_4))\n",
    "print(len(array_5))\n",
    "\n",
    "print(len(array_1)+len(array_4)-len(array_5)==len(array_2)+len(array_3)-len(array_5))"
   ]
  }
 ],
 "metadata": {
  "interpreter": {
   "hash": "ef996a58dd4038b19127a5b342ff558a720418179ddf7c29df6339888c2ae8ac"
  },
  "kernelspec": {
   "display_name": "Python 3.9.7 ('base')",
   "language": "python",
   "name": "python3"
  },
  "language_info": {
   "codemirror_mode": {
    "name": "ipython",
    "version": 3
   },
   "file_extension": ".py",
   "mimetype": "text/x-python",
   "name": "python",
   "nbconvert_exporter": "python",
   "pygments_lexer": "ipython3",
   "version": "3.9.7"
  },
  "orig_nbformat": 4
 },
 "nbformat": 4,
 "nbformat_minor": 2
}
