{
 "cells": [
  {
   "cell_type": "code",
   "execution_count": 1,
   "metadata": {},
   "outputs": [],
   "source": [
    "import numpy as np\n"
   ]
  },
  {
   "cell_type": "markdown",
   "metadata": {},
   "source": [
    "EJERCICIO 1: Cread un array de dos dimensiones de 5 filas y 3 columnas. Sobre el array creado anteriormente, extraed:\n",
    "\n",
    "\n",
    "\n",
    "\n"
   ]
  },
  {
   "cell_type": "code",
   "execution_count": 2,
   "metadata": {},
   "outputs": [
    {
     "data": {
      "text/plain": [
       "array([[36, 24, 58],\n",
       "       [51, 33, 77],\n",
       "       [37, 78, 98],\n",
       "       [48, 56, 14],\n",
       "       [43, 91, 85]])"
      ]
     },
     "execution_count": 2,
     "metadata": {},
     "output_type": "execute_result"
    }
   ],
   "source": [
    "array1 = np.random.randint(1,100,(5,3))\n",
    "array1\n"
   ]
  },
  {
   "cell_type": "markdown",
   "metadata": {},
   "source": [
    "Ej1.1: El valor de la primera fila y la segunda columna."
   ]
  },
  {
   "cell_type": "code",
   "execution_count": 3,
   "metadata": {},
   "outputs": [
    {
     "data": {
      "text/plain": [
       "24"
      ]
     },
     "execution_count": 3,
     "metadata": {},
     "output_type": "execute_result"
    }
   ],
   "source": [
    "array1[0,1]"
   ]
  },
  {
   "cell_type": "markdown",
   "metadata": {},
   "source": [
    "Ej1.2: Los valores de la segunda fila y las dos primeras columnas."
   ]
  },
  {
   "cell_type": "code",
   "execution_count": 5,
   "metadata": {},
   "outputs": [
    {
     "data": {
      "text/plain": [
       "array([51, 33])"
      ]
     },
     "execution_count": 5,
     "metadata": {},
     "output_type": "execute_result"
    }
   ],
   "source": [
    "array1[1,:2]"
   ]
  },
  {
   "cell_type": "markdown",
   "metadata": {},
   "source": [
    "Ej1.3: Extraed las filas pares (incluyendo la 0) y todas las columnas."
   ]
  },
  {
   "cell_type": "code",
   "execution_count": 6,
   "metadata": {},
   "outputs": [
    {
     "data": {
      "text/plain": [
       "array([[36, 24, 58],\n",
       "       [37, 78, 98],\n",
       "       [43, 91, 85]])"
      ]
     },
     "execution_count": 6,
     "metadata": {},
     "output_type": "execute_result"
    }
   ],
   "source": [
    "array1[0::2, :]"
   ]
  },
  {
   "cell_type": "markdown",
   "metadata": {},
   "source": [
    "Ej1.4: Extraed los valores que sean mayores que 0.5."
   ]
  },
  {
   "cell_type": "code",
   "execution_count": 7,
   "metadata": {},
   "outputs": [
    {
     "data": {
      "text/plain": [
       "array([36, 24, 58, 51, 33, 77, 37, 78, 98, 48, 56, 14, 43, 91, 85])"
      ]
     },
     "execution_count": 7,
     "metadata": {},
     "output_type": "execute_result"
    }
   ],
   "source": [
    "array1[array1 >0.5]"
   ]
  },
  {
   "cell_type": "markdown",
   "metadata": {},
   "source": [
    "Ej1.5: Extraed los valores menores que 0.2 o mayores que 0.5"
   ]
  },
  {
   "cell_type": "code",
   "execution_count": 9,
   "metadata": {},
   "outputs": [
    {
     "data": {
      "text/plain": [
       "array([36, 24, 58, 51, 33, 77, 37, 78, 98, 48, 56, 14, 43, 91, 85])"
      ]
     },
     "execution_count": 9,
     "metadata": {},
     "output_type": "execute_result"
    }
   ],
   "source": [
    "array1[(array1 <0.2) | (array1>0.5)]"
   ]
  },
  {
   "cell_type": "markdown",
   "metadata": {},
   "source": [
    "EJERCICIO 2: Cread dos array de tres dimensiones:\n",
    "El primero de 2 matrices, 5 filas y 3 columnas.\n",
    "El segundo de 3 matrices, 2 filas y 5 columnas\n",
    "\n",
    "\n"
   ]
  },
  {
   "cell_type": "code",
   "execution_count": 11,
   "metadata": {},
   "outputs": [
    {
     "data": {
      "text/plain": [
       "array([[[0.60065482, 0.01955357, 0.67144878, 0.20543188, 0.23601106],\n",
       "        [0.3485933 , 0.309118  , 0.6372729 , 0.96279021, 0.24946762]],\n",
       "\n",
       "       [[0.37749935, 0.5203915 , 0.94287361, 0.25189513, 0.46080852],\n",
       "        [0.31406022, 0.80006445, 0.25185478, 0.8616759 , 0.46842936]],\n",
       "\n",
       "       [[0.73918918, 0.54558048, 0.00596773, 0.52239058, 0.00977007],\n",
       "        [0.4655607 , 0.20141541, 0.11082492, 0.63229381, 0.61357479]]])"
      ]
     },
     "execution_count": 11,
     "metadata": {},
     "output_type": "execute_result"
    }
   ],
   "source": [
    "array2 = np.random.randint(1,100,(2,5,3))\n",
    "array3 = np.random.rand(3,2,5)\n",
    "array2\n",
    "array3"
   ]
  },
  {
   "cell_type": "markdown",
   "metadata": {},
   "source": [
    "Ej 2.1: Haced un análisis exploratorio de los array creados. Recordad que en el ejercicio de ayer nos creamos una función para esto."
   ]
  },
  {
   "cell_type": "code",
   "execution_count": 23,
   "metadata": {},
   "outputs": [
    {
     "name": "stdout",
     "output_type": "stream",
     "text": [
      "3\n",
      "float64\n",
      "(3, 2, 5)\n",
      "30\n"
     ]
    }
   ],
   "source": [
    "def propiedades_array(array):\n",
    "    print(array.ndim)\n",
    "    print(array.dtype)\n",
    "    print(array.shape)\n",
    "    print(array.size)\n",
    "\n",
    "propiedades_array(array3)"
   ]
  },
  {
   "cell_type": "markdown",
   "metadata": {},
   "source": [
    "Ej 2.2: Sumad los dos arrays. ¿Podéis? ¿Por qué?"
   ]
  },
  {
   "cell_type": "code",
   "execution_count": 17,
   "metadata": {},
   "outputs": [
    {
     "name": "stdout",
     "output_type": "stream",
     "text": [
      "array2 y array3 no se pueden sumar porque no tienen la misma forma\n"
     ]
    }
   ],
   "source": [
    "#array2 + array3 \n",
    "print('array2 y array3 no se pueden sumar porque no tienen la misma forma')"
   ]
  },
  {
   "cell_type": "markdown",
   "metadata": {},
   "source": [
    "Ej 2.3: Para cambiar la forma de un array y poder hacer operaciones entre arrays que tienen distintas formas usando:\n",
    ".reshape()\n",
    ".transpose()"
   ]
  },
  {
   "cell_type": "code",
   "execution_count": 22,
   "metadata": {},
   "outputs": [
    {
     "name": "stdout",
     "output_type": "stream",
     "text": [
      "La suma de los arrays con reshape: \n",
      " [[[96.60065482 62.01955357 91.67144878]\n",
      "  [41.20543188 65.23601106 74.3485933 ]\n",
      "  [75.309118   10.6372729   4.96279021]\n",
      "  [39.24946762 37.37749935 56.5203915 ]\n",
      "  [97.94287361 61.25189513 26.46080852]]\n",
      "\n",
      " [[28.31406022 90.80006445  8.25185478]\n",
      "  [31.8616759  18.46842936 53.73918918]\n",
      "  [87.54558048 92.00596773 75.52239058]\n",
      "  [76.00977007 25.4655607  12.20141541]\n",
      "  [35.11082492 57.63229381 30.61357479]]]\n"
     ]
    }
   ],
   "source": [
    "array3_cambiado = np.reshape(array3, (2,5,3))\n",
    "array3_cambiado\n",
    "print('La suma de los arrays con reshape:', '\\n', array3_cambiado + array2)"
   ]
  },
  {
   "cell_type": "code",
   "execution_count": 26,
   "metadata": {},
   "outputs": [
    {
     "name": "stdout",
     "output_type": "stream",
     "text": [
      "Suma de array3 y array2 con transpose: \n",
      " [[[96.60065482 62.37749935 91.73918918]\n",
      "  [41.01955357 65.5203915  74.54558048]\n",
      "  [75.67144878 10.94287361  4.00596773]\n",
      "  [39.20543188 37.25189513 56.52239058]\n",
      "  [97.23601106 61.46080852 26.00977007]]\n",
      "\n",
      " [[28.3485933  90.31406022  8.4655607 ]\n",
      "  [31.309118   18.80006445 53.20141541]\n",
      "  [87.6372729  92.25185478 75.11082492]\n",
      "  [76.96279021 25.8616759  12.63229381]\n",
      "  [35.24946762 57.46842936 30.61357479]]]\n"
     ]
    }
   ],
   "source": [
    "array3_transpose = np.transpose(array3, (1,2,0))\n",
    "print('Suma de array3 y array2 con transpose:', '\\n', array3_transpose + array2)"
   ]
  }
 ],
 "metadata": {
  "interpreter": {
   "hash": "ef996a58dd4038b19127a5b342ff558a720418179ddf7c29df6339888c2ae8ac"
  },
  "kernelspec": {
   "display_name": "Python 3.9.7 ('base')",
   "language": "python",
   "name": "python3"
  },
  "language_info": {
   "codemirror_mode": {
    "name": "ipython",
    "version": 3
   },
   "file_extension": ".py",
   "mimetype": "text/x-python",
   "name": "python",
   "nbconvert_exporter": "python",
   "pygments_lexer": "ipython3",
   "version": "3.9.7"
  },
  "orig_nbformat": 4
 },
 "nbformat": 4,
 "nbformat_minor": 2
}
