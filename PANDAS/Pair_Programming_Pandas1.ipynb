{
 "cells": [
  {
   "cell_type": "code",
   "execution_count": 2,
   "metadata": {},
   "outputs": [],
   "source": [
    "import pandas as pd\n",
    "import numpy as np\n",
    "import random "
   ]
  },
  {
   "cell_type": "markdown",
   "metadata": {},
   "source": [
    "EJERCICIO 1: ¿Qué diferencia hay entre una Serie y un DataFrame?"
   ]
  },
  {
   "cell_type": "code",
   "execution_count": 3,
   "metadata": {},
   "outputs": [
    {
     "name": "stdout",
     "output_type": "stream",
     "text": [
      "La diferencia entre una Serie y un DataFrame es que, el primero es unidimensional y el segundo bidimensional.\n"
     ]
    }
   ],
   "source": [
    "print('La diferencia entre una Serie y un DataFrame es que, el primero es unidimensional y el segundo bidimensional.')"
   ]
  },
  {
   "cell_type": "markdown",
   "metadata": {},
   "source": [
    "EJERCICIO 2: Momento de trabajar con Series. Contestad a las siguientes preguntas:\n",
    "- Crea dos listas:\n",
    "    - Una que se llame \"valores\" que tenga 7 números aleatorios.\n",
    "    - Otra que se llame \"indices\" que tenga 7 strings que se llamen como los dias de la semana.\n",
    "- A partir de estas dos listas crea una Serie donde la variable \"valores\" sean los valores de la Serie y la variable indices sean los índices de la Serie.\n",
    "- A partir de las dos listas anteriores crea un diccionario usando un bucle for. Para hacer esto tenemos el método zip que nos permite iterar por dos listas a la vez. Más informción sobre este método aquí.\n",
    "- Crea una Serie con el diccionario creado en el punto anterior.\n",
    "- ¿Qué forma tiene esta última Serie?\n",
    "- ¿Qué tipo de datos tiene?\n",
    "- ¿Qué tamaño tiene?\n",
    "- ¿Cuáles son los índices de la Serie?\n",
    "- ¿Y los values?\n",
    "- Extraed el valor para el índice \"lunes\". \n",
    "    Extraed el valor para el índice \"lunes\", \"martes\" y \"miércoles\".\n",
    "    Extraed el valor para el índice \"lunes\" y \"domingo\"."
   ]
  },
  {
   "cell_type": "code",
   "execution_count": 4,
   "metadata": {},
   "outputs": [
    {
     "name": "stdout",
     "output_type": "stream",
     "text": [
      "[('lunes', 2), ('martes', 27), ('miercoles', 6), ('jueves', 22), ('viernes', 21), ('sabado', 9), ('domingo', 29)]\n",
      "{'lunes': 2, 'martes': 27, 'miercoles': 6, 'jueves': 22, 'viernes': 21, 'sabado': 9, 'domingo': 29}\n",
      "Forma: (7,)\n",
      "Tipo: int64\n",
      "Tamaño: 7\n",
      "Indices: Index(['lunes', 'martes', 'miercoles', 'jueves', 'viernes', 'sabado',\n",
      "       'domingo'],\n",
      "      dtype='object')\n",
      "Valores: [ 2 27  6 22 21  9 29]\n",
      "Valor de lunes: 2\n",
      "Valor de lunes, martes y miercoles,: \n",
      " lunes         2\n",
      "martes       27\n",
      "miercoles     6\n",
      "dtype: int64\n",
      "Valor de lunes y domingo: 2 y 29\n"
     ]
    }
   ],
   "source": [
    "valores = random.sample(range(30),7) #En la lista aleatoria puede aparecer el 0, cosa que no queremos\n",
    "indices = ['lunes', 'martes', 'miercoles', 'jueves', 'viernes', 'sabado', 'domingo']\n",
    "\n",
    "#--------\n",
    "\n",
    "series = pd.Series(valores, index = indices)\n",
    "series\n",
    "\n",
    "#-------\n",
    "\n",
    "resultado_zip = zip(indices,valores)\n",
    "print(list(resultado_zip))\n",
    "\n",
    "diccionario = {}\n",
    "for dias in indices:\n",
    "    for numero in valores:\n",
    "        diccionario[dias] = numero\n",
    "        valores.remove(numero)\n",
    "        break\n",
    "    \n",
    "print(diccionario)\n",
    "\n",
    "#------\n",
    "\n",
    "serie_dic = pd.Series(diccionario)\n",
    "serie_dic\n",
    "\n",
    "#------\n",
    "print('Forma:', serie_dic.shape)\n",
    "\n",
    "print('Tipo:', serie_dic.dtypes)\n",
    "\n",
    "print('Tamaño:', serie_dic.size)\n",
    "\n",
    "print('Indices:', serie_dic.index)\n",
    "\n",
    "print('Valores:', serie_dic.values)\n",
    "\n",
    "print('Valor de lunes:', serie_dic['lunes'])\n",
    "print('Valor de lunes, martes y miercoles,:', '\\n', serie_dic['lunes': 'miercoles'])\n",
    "print('Valor de lunes y domingo:', serie_dic['lunes'], 'y', serie_dic['domingo'])\n"
   ]
  },
  {
   "cell_type": "markdown",
   "metadata": {},
   "source": [
    "EJERCICIO 3: Es el turno de los DataFrames\n",
    "- Cread un array de dos dimensiones con 4 filas y 3 columnas.\n",
    "- Convertid el array en un DataFrame donde las columnas se llamen \"España\", \"Francia\" e \"Italia\".\n",
    "- Descargad el archivo \"medallas\" y cargad el DataFrame.\n",
    "\n",
    "- Usando el loc extraed todas las columnas de la fila.\n",
    "- Usando el loc extraed todas las columnas de China e Irán.\n",
    "- Usando el loc extraed solo las columnas de \"Oro\", \"Plata\" y \"Bronce\" de China e Irán.\n",
    "- Usando el iloc extraed la información de la India. Devolved todas las columnas.\n",
    "- Usando el iloc extraed todas las columnas de los paises que estén en posición impar. La primera que nos tendría que salir es Japón y la última Corea del Norte.\n",
    "- Utilizando el código del ejercicio anterior, seleccionad unicamente las columnas \"Oro\", \"Plata\" y \"Bronce\".\n",
    "- Contestad a las siguientes preguntas:\n",
    "- ¿Qué país consiguió más de 200 medallas de oro?\n",
    "- ¿Qué país consiguió más de 200 medallas de oro y más de 1000 de plata?\n",
    "- ¿Qué país consiguió más de 200 medallas de oro o más de 700 de bronce?\n",
    "- Como vemos hay una columna que se llama Unnamed: 0 que no nos interesa. Eliminad esa columna.\n",
    "- Cread una nueva columma que se llame \"total\" que sea el resultado de la suma de todas las medallas obtenidas por cada país."
   ]
  },
  {
   "cell_type": "code",
   "execution_count": 39,
   "metadata": {},
   "outputs": [
    {
     "name": "stdout",
     "output_type": "stream",
     "text": [
      "                 Unnamed: 0   Oro  Plata  Bronce\n",
      "País                                            \n",
      "China                     1  1473    994     720\n",
      "Japón                     2  1032   1037     985\n",
      "Corea del Sur             3   745    663     827\n",
      "Irán                      4   179    181     197\n",
      "Kazajistán                5   155    158     224\n",
      "India                     6   154    202     315\n",
      "Tailandia                 7   132    175     278\n",
      "Indonesia                 8   112    131     240\n",
      "China Taipéi              9    99    144     276\n",
      "Corea del Norte          10    91    120     235\n"
     ]
    },
    {
     "data": {
      "text/html": [
       "<div>\n",
       "<style scoped>\n",
       "    .dataframe tbody tr th:only-of-type {\n",
       "        vertical-align: middle;\n",
       "    }\n",
       "\n",
       "    .dataframe tbody tr th {\n",
       "        vertical-align: top;\n",
       "    }\n",
       "\n",
       "    .dataframe thead th {\n",
       "        text-align: right;\n",
       "    }\n",
       "</style>\n",
       "<table border=\"1\" class=\"dataframe\">\n",
       "  <thead>\n",
       "    <tr style=\"text-align: right;\">\n",
       "      <th></th>\n",
       "      <th>Oro</th>\n",
       "      <th>Plata</th>\n",
       "      <th>Bronce</th>\n",
       "      <th>total</th>\n",
       "    </tr>\n",
       "    <tr>\n",
       "      <th>País</th>\n",
       "      <th></th>\n",
       "      <th></th>\n",
       "      <th></th>\n",
       "      <th></th>\n",
       "    </tr>\n",
       "  </thead>\n",
       "  <tbody>\n",
       "    <tr>\n",
       "      <th>China</th>\n",
       "      <td>1473</td>\n",
       "      <td>994</td>\n",
       "      <td>720</td>\n",
       "      <td>3187</td>\n",
       "    </tr>\n",
       "    <tr>\n",
       "      <th>Japón</th>\n",
       "      <td>1032</td>\n",
       "      <td>1037</td>\n",
       "      <td>985</td>\n",
       "      <td>3054</td>\n",
       "    </tr>\n",
       "    <tr>\n",
       "      <th>Corea del Sur</th>\n",
       "      <td>745</td>\n",
       "      <td>663</td>\n",
       "      <td>827</td>\n",
       "      <td>2235</td>\n",
       "    </tr>\n",
       "    <tr>\n",
       "      <th>Irán</th>\n",
       "      <td>179</td>\n",
       "      <td>181</td>\n",
       "      <td>197</td>\n",
       "      <td>557</td>\n",
       "    </tr>\n",
       "    <tr>\n",
       "      <th>Kazajistán</th>\n",
       "      <td>155</td>\n",
       "      <td>158</td>\n",
       "      <td>224</td>\n",
       "      <td>537</td>\n",
       "    </tr>\n",
       "  </tbody>\n",
       "</table>\n",
       "</div>"
      ],
      "text/plain": [
       "                Oro  Plata  Bronce  total\n",
       "País                                     \n",
       "China          1473    994     720   3187\n",
       "Japón          1032   1037     985   3054\n",
       "Corea del Sur   745    663     827   2235\n",
       "Irán            179    181     197    557\n",
       "Kazajistán      155    158     224    537"
      ]
     },
     "execution_count": 39,
     "metadata": {},
     "output_type": "execute_result"
    }
   ],
   "source": [
    "array = np.random.randint(0,100,(4,3))\n",
    "\n",
    "ejer3 = pd.DataFrame(array)\n",
    "ejer3\n",
    "\n",
    "ejer3 = pd.DataFrame(array, columns=['España', 'Francia', 'Italia'])\n",
    "ejer3\n",
    "\n",
    "medallas = pd.read_csv(\"medallas.csv\", index_col=[\"País\"])\n",
    "print(medallas)\n",
    "\n",
    "medallas.loc['China',:]\n",
    "\n",
    "medallas.loc[['China', 'Irán'], :]\n",
    "\n",
    "medallas.loc[['China','Irán'],'Oro':'Bronce']\n",
    "\n",
    "medallas.iloc[5,:]\n",
    "\n",
    "medallas.iloc[1::2, :]\n",
    "\n",
    "medallas.iloc[1::2,1:]\n",
    "\n",
    "medallas[medallas.Oro > 200]\n",
    "\n",
    "medallas.loc[(medallas.Oro > 200)&(medallas.Plata > 1000)] \n",
    "\n",
    "medallas.loc[(medallas.Oro > 200)&(medallas.Bronce > 700)] \n",
    "\n",
    "medallas_limpia = medallas.drop(columns = ['Unnamed: 0'])\n",
    "\n",
    "medallas_total = medallas_limpia.assign(total = medallas_limpia['Oro'] + medallas_limpia['Plata'] + medallas_limpia['Bronce'])\n",
    "medallas_total.head()\n",
    "\n",
    "\n",
    "\n",
    "\n"
   ]
  }
 ],
 "metadata": {
  "interpreter": {
   "hash": "0620710c65b0f5ccc651a2aa8870ae0eb4c70492424a8d7866846658189426a3"
  },
  "kernelspec": {
   "display_name": "Python 3.9.7 ('base')",
   "language": "python",
   "name": "python3"
  },
  "language_info": {
   "codemirror_mode": {
    "name": "ipython",
    "version": 3
   },
   "file_extension": ".py",
   "mimetype": "text/x-python",
   "name": "python",
   "nbconvert_exporter": "python",
   "pygments_lexer": "ipython3",
   "version": "3.9.7"
  },
  "orig_nbformat": 4
 },
 "nbformat": 4,
 "nbformat_minor": 2
}
