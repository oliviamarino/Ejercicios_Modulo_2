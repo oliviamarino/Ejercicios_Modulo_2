{
 "cells": [
  {
   "cell_type": "code",
   "execution_count": 1,
   "metadata": {},
   "outputs": [],
   "source": [
    "import matplotlib.pyplot as plt\n",
    "import numpy as np \n",
    "import pandas as pd\n",
    "import seaborn as sns"
   ]
  },
  {
   "cell_type": "code",
   "execution_count": 2,
   "metadata": {},
   "outputs": [
    {
     "data": {
      "text/html": [
       "<div>\n",
       "<style scoped>\n",
       "    .dataframe tbody tr th:only-of-type {\n",
       "        vertical-align: middle;\n",
       "    }\n",
       "\n",
       "    .dataframe tbody tr th {\n",
       "        vertical-align: top;\n",
       "    }\n",
       "\n",
       "    .dataframe thead th {\n",
       "        text-align: right;\n",
       "    }\n",
       "</style>\n",
       "<table border=\"1\" class=\"dataframe\">\n",
       "  <thead>\n",
       "    <tr style=\"text-align: right;\">\n",
       "      <th></th>\n",
       "      <th>Unnamed: 0</th>\n",
       "      <th>Year</th>\n",
       "      <th>Type</th>\n",
       "      <th>Country</th>\n",
       "      <th>Area</th>\n",
       "      <th>Location</th>\n",
       "      <th>Activity</th>\n",
       "      <th>Name</th>\n",
       "      <th>Sex</th>\n",
       "      <th>Age</th>\n",
       "      <th>Time</th>\n",
       "      <th>Species</th>\n",
       "      <th>href</th>\n",
       "    </tr>\n",
       "    <tr>\n",
       "      <th>Case Number</th>\n",
       "      <th></th>\n",
       "      <th></th>\n",
       "      <th></th>\n",
       "      <th></th>\n",
       "      <th></th>\n",
       "      <th></th>\n",
       "      <th></th>\n",
       "      <th></th>\n",
       "      <th></th>\n",
       "      <th></th>\n",
       "      <th></th>\n",
       "      <th></th>\n",
       "      <th></th>\n",
       "    </tr>\n",
       "  </thead>\n",
       "  <tbody>\n",
       "    <tr>\n",
       "      <th>2018.06.25</th>\n",
       "      <td>0</td>\n",
       "      <td>2018.0</td>\n",
       "      <td>Boating</td>\n",
       "      <td>USA</td>\n",
       "      <td>California</td>\n",
       "      <td>Oceanside, San Diego County</td>\n",
       "      <td>Paddling</td>\n",
       "      <td>Julie Wolfe</td>\n",
       "      <td>F</td>\n",
       "      <td>57</td>\n",
       "      <td>18h00</td>\n",
       "      <td>White shark</td>\n",
       "      <td>http://sharkattackfile.net/spreadsheets/pdf_di...</td>\n",
       "    </tr>\n",
       "    <tr>\n",
       "      <th>2018.06.18</th>\n",
       "      <td>1</td>\n",
       "      <td>2018.0</td>\n",
       "      <td>Unprovoked</td>\n",
       "      <td>USA</td>\n",
       "      <td>Georgia</td>\n",
       "      <td>St. Simon Island, Glynn County</td>\n",
       "      <td>Standing</td>\n",
       "      <td>Adyson McNeely</td>\n",
       "      <td>F</td>\n",
       "      <td>11</td>\n",
       "      <td>14h00  -15h00</td>\n",
       "      <td>NaN</td>\n",
       "      <td>http://sharkattackfile.net/spreadsheets/pdf_di...</td>\n",
       "    </tr>\n",
       "    <tr>\n",
       "      <th>2018.06.09</th>\n",
       "      <td>2</td>\n",
       "      <td>2018.0</td>\n",
       "      <td>Invalid</td>\n",
       "      <td>USA</td>\n",
       "      <td>Hawaii</td>\n",
       "      <td>Habush, Oahu</td>\n",
       "      <td>Surfing</td>\n",
       "      <td>John Denges</td>\n",
       "      <td>M</td>\n",
       "      <td>48</td>\n",
       "      <td>07h45</td>\n",
       "      <td>NaN</td>\n",
       "      <td>http://sharkattackfile.net/spreadsheets/pdf_di...</td>\n",
       "    </tr>\n",
       "    <tr>\n",
       "      <th>2018.06.08</th>\n",
       "      <td>3</td>\n",
       "      <td>2018.0</td>\n",
       "      <td>Unprovoked</td>\n",
       "      <td>AUSTRALIA</td>\n",
       "      <td>New South Wales</td>\n",
       "      <td>Arrawarra Headland</td>\n",
       "      <td>Surfing</td>\n",
       "      <td>male</td>\n",
       "      <td>M</td>\n",
       "      <td>NaN</td>\n",
       "      <td>NaN</td>\n",
       "      <td>2 m shark</td>\n",
       "      <td>http://sharkattackfile.net/spreadsheets/pdf_di...</td>\n",
       "    </tr>\n",
       "    <tr>\n",
       "      <th>2018.06.04</th>\n",
       "      <td>4</td>\n",
       "      <td>2018.0</td>\n",
       "      <td>Provoked</td>\n",
       "      <td>MEXICO</td>\n",
       "      <td>Colima</td>\n",
       "      <td>La Ticla</td>\n",
       "      <td>Free diving</td>\n",
       "      <td>Gustavo Ramos</td>\n",
       "      <td>M</td>\n",
       "      <td>NaN</td>\n",
       "      <td>NaN</td>\n",
       "      <td>Tiger shark, 3m</td>\n",
       "      <td>http://sharkattackfile.net/spreadsheets/pdf_di...</td>\n",
       "    </tr>\n",
       "  </tbody>\n",
       "</table>\n",
       "</div>"
      ],
      "text/plain": [
       "             Unnamed: 0    Year        Type    Country             Area  \\\n",
       "Case Number                                                               \n",
       "2018.06.25            0  2018.0     Boating        USA       California   \n",
       "2018.06.18            1  2018.0  Unprovoked        USA          Georgia   \n",
       "2018.06.09            2  2018.0     Invalid        USA           Hawaii   \n",
       "2018.06.08            3  2018.0  Unprovoked  AUSTRALIA  New South Wales   \n",
       "2018.06.04            4  2018.0    Provoked     MEXICO           Colima   \n",
       "\n",
       "                                   Location     Activity             Name  \\\n",
       "Case Number                                                                 \n",
       "2018.06.25      Oceanside, San Diego County     Paddling      Julie Wolfe   \n",
       "2018.06.18   St. Simon Island, Glynn County     Standing  Adyson McNeely    \n",
       "2018.06.09                     Habush, Oahu      Surfing      John Denges   \n",
       "2018.06.08               Arrawarra Headland      Surfing             male   \n",
       "2018.06.04                         La Ticla  Free diving   Gustavo Ramos    \n",
       "\n",
       "            Sex   Age           Time         Species   \\\n",
       "Case Number                                             \n",
       "2018.06.25     F   57          18h00      White shark   \n",
       "2018.06.18     F   11  14h00  -15h00              NaN   \n",
       "2018.06.09     M   48          07h45              NaN   \n",
       "2018.06.08     M  NaN            NaN        2 m shark   \n",
       "2018.06.04     M  NaN            NaN  Tiger shark, 3m   \n",
       "\n",
       "                                                          href  \n",
       "Case Number                                                     \n",
       "2018.06.25   http://sharkattackfile.net/spreadsheets/pdf_di...  \n",
       "2018.06.18   http://sharkattackfile.net/spreadsheets/pdf_di...  \n",
       "2018.06.09   http://sharkattackfile.net/spreadsheets/pdf_di...  \n",
       "2018.06.08   http://sharkattackfile.net/spreadsheets/pdf_di...  \n",
       "2018.06.04   http://sharkattackfile.net/spreadsheets/pdf_di...  "
      ]
     },
     "execution_count": 2,
     "metadata": {},
     "output_type": "execute_result"
    }
   ],
   "source": [
    "lectura_attacks = pd.read_csv(\"attacks_modificado.csv\", index_col = 0)\n",
    "lectura_attacks.head() "
   ]
  },
  {
   "cell_type": "markdown",
   "metadata": {},
   "source": [
    "EJERCICIO 1.1: \n",
    " - En la primera debéis mostrar los tipos ataques en USA y España, cada subplot corresponderá a un país. Debéis:\n",
    "    - Ponerle nombre a los ejes de cada uno de los subplots\n",
    "    - Ponerle un títulos a cada uno de los subplots\n",
    "    - Poner el color de las lineas en negro.\n",
    "    - Establecer el tamaño de la gráfica a 15 x 5\n",
    "    - Ponerle marcadores a las gráficas\n",
    "    - No incluid leyenda"
   ]
  },
  {
   "cell_type": "code",
   "execution_count": 3,
   "metadata": {},
   "outputs": [
    {
     "data": {
      "image/png": "[encoded data removed]",
      "text/plain": [
       "<Figure size 1080x576 with 2 Axes>"
      ]
     },
     "metadata": {
      "needs_background": "light"
     },
     "output_type": "display_data"
    },
    {
     "data": {
      "text/plain": [
       "<Figure size 432x288 with 0 Axes>"
      ]
     },
     "metadata": {},
     "output_type": "display_data"
    }
   ],
   "source": [
    "fig,ax = plt.subplots(1,2, figsize=(15,8))\n",
    "\n",
    "\n",
    "tabla_USA = lectura_attacks[lectura_attacks['Country'] == 'USA']\n",
    "tipo_USA = tabla_USA['Type'].value_counts().reset_index()\n",
    "tipo_USA= tipo_USA.rename({'index': 'tipo', 'Type': 'ataques_tipo'}, axis=1)\n",
    "\n",
    "x_u = tipo_USA['tipo']\n",
    "y_u= tipo_USA['ataques_tipo']\n",
    "\n",
    "\n",
    "tabla_SPAIN = lectura_attacks[lectura_attacks['Country'] == 'SPAIN']\n",
    "tipo_s = tabla_SPAIN['Type'].value_counts().reset_index()\n",
    "tipo_s = tipo_s.rename({'index': 'tipo1', 'Type': 'ataques_tipo1'}, axis=1)\n",
    "\n",
    "x_s= tipo_s['tipo1']\n",
    "y_s = tipo_s['ataques_tipo1']\n",
    "\n",
    "\n",
    "ax[0].plot(x_u, y_u, c= 'k', marker= '*' )\n",
    "ax[0].set_title('Gráfica de cantidad de tipo de ataques en USA')\n",
    "ax[0].set_xlabel('Tipo de ataque USA')\n",
    "ax[0].set_ylabel('Cantidad de ataques USA')\n",
    "\n",
    "\n",
    "\n",
    "ax[1].plot(x_s, y_s, c= 'k', marker ='^')\n",
    "ax[1].set_title('Cantidad de ataques Spain')\n",
    "ax[1].set_xlabel('Tipo de ataque Spain')\n",
    "ax[1].set_ylabel('Nombre del eje Y')\n",
    "\n",
    "\n",
    "plt.show()\n",
    "\n",
    "\n",
    "plt.savefig('Pair_V2_Ejercicio1_1.tiff')\n"
   ]
  },
  {
   "cell_type": "markdown",
   "metadata": {},
   "source": [
    "### EJERCICIO 1.2\n",
    "- En la segunda debéis mostrar los ataques por año para cada uno de los paises.\n",
    "- De nuevo tendréis que ponerle nombre a los ejes y título a cada gráfica.\n",
    "- En este caso el subplot deberá tener dos filas y una columna\n",
    "- No incluir leyenda\n",
    "- Cambiar el color de las barras"
   ]
  },
  {
   "cell_type": "code",
   "execution_count": 4,
   "metadata": {},
   "outputs": [
    {
     "data": {
      "image/png": "[encoded data removed]",
      "text/plain": [
       "<Figure size 576x288 with 1 Axes>"
      ]
     },
     "metadata": {
      "needs_background": "light"
     },
     "output_type": "display_data"
    },
    {
     "data": {
      "text/plain": [
       "<Figure size 432x288 with 0 Axes>"
      ]
     },
     "metadata": {},
     "output_type": "display_data"
    }
   ],
   "source": [
    "fig,ax = plt.subplots(figsize= (8,4))\n",
    "\n",
    "USA_año = lectura_attacks[((lectura_attacks['Country'] == 'USA') & (lectura_attacks['Year'] >= 2000))]\n",
    "USA_año_count = USA_año['Year'].value_counts().reset_index()\n",
    "USA_año_count = USA_año_count.rename({'index': 'años','Year': 'ataques'}, axis=1)\n",
    "\n",
    "x_u = USA_año_count['años']\n",
    "y_u = USA_año_count['ataques']\n",
    "\n",
    "\n",
    "SPAIN_año = lectura_attacks[((lectura_attacks['Country'] == 'SPAIN') & (lectura_attacks['Year'] >= 2000))]\n",
    "SPAIN_año_count = SPAIN_año['Year'].value_counts().reset_index()\n",
    "SPAIN_año_count = SPAIN_año_count.rename({'index': 'años', 'Year': 'ataques'}, axis=1)\n",
    "\n",
    "x_s = SPAIN_año_count['años']\n",
    "y_s = SPAIN_año_count['ataques']\n",
    "\n",
    "\n",
    "plt.bar(x_u, y_u, ec= 'black')\n",
    "plt.bar(x_s, y_s, ec= 'blue')\n",
    "plt.title('Ataques por años en USA y Spain')\n",
    "\n",
    "\n",
    "ax.set_xlabel('AÑOS')\n",
    "ax.set_ylabel('ATAQUES')\n",
    "plt.show()\n",
    "\n",
    "plt.savefig('Pair_V2_Ejercicio1_2.tiff')"
   ]
  },
  {
   "cell_type": "markdown",
   "metadata": {},
   "source": [
    "### EJERCICIO 2\n",
    "Cread un único gráfico donde juntéis las gráficas de los tipos de ataques en una sola. Debéis:\n",
    "- Poner leyenda a la gráfica\n",
    "- Cada línea debe ir en un color\n",
    "- Ponerle nombre a los ejes y a la gráfica.\n",
    "- Poner marcadores a las lineas."
   ]
  },
  {
   "cell_type": "code",
   "execution_count": 5,
   "metadata": {},
   "outputs": [
    {
     "data": {
      "image/png": "[encoded data removed]",
      "text/plain": [
       "<Figure size 576x288 with 1 Axes>"
      ]
     },
     "metadata": {
      "needs_background": "light"
     },
     "output_type": "display_data"
    },
    {
     "data": {
      "text/plain": [
       "<Figure size 432x288 with 0 Axes>"
      ]
     },
     "metadata": {},
     "output_type": "display_data"
    }
   ],
   "source": [
    "fig,ax = plt.subplots(figsize= (8,4))\n",
    "\n",
    "tabla_USA = lectura_attacks[lectura_attacks['Country'] == 'USA']\n",
    "tipo_USA = tabla_USA['Type'].value_counts().reset_index()\n",
    "tipo_USA= tipo_USA.rename({'index': 'tipo', 'Type': 'ataques_tipo'}, axis=1)\n",
    "\n",
    "x_u = tipo_USA['tipo']\n",
    "y_u= tipo_USA['ataques_tipo']\n",
    "\n",
    "\n",
    "tabla_SPAIN = lectura_attacks[lectura_attacks['Country'] == 'SPAIN']\n",
    "tipo_s = tabla_SPAIN['Type'].value_counts().reset_index()\n",
    "tipo_s = tipo_s.rename({'index': 'tipo1', 'Type': 'ataques_tipo1'}, axis=1)\n",
    "\n",
    "x_s= tipo_s['tipo1']\n",
    "y_s = tipo_s['ataques_tipo1']\n",
    "\n",
    "\n",
    "plt.plot(x_u, y_u, marker= 'D', c='pink')\n",
    "plt.plot(x_s, y_s, marker= 'd', c='g')\n",
    "\n",
    "plt.title('Gráfica lineal de tipos de ataques en USA y ESPAÑA')\n",
    "\n",
    "ax.set_xlabel('TIPOS')\n",
    "ax.set_ylabel('ATAQUES')\n",
    "ax.legend(labels=['USA','SPAIN'])\n",
    "plt.show()\n",
    "\n",
    "plt.savefig('Pair_V2_Ejercicio2.png')"
   ]
  },
  {
   "cell_type": "markdown",
   "metadata": {},
   "source": [
    "### EJERCICIO 3\n",
    "Guardad las figuras creadas en cada caso. Podéis usar el formato que queráis. Guarda todas las fotos en una carpeta llamada Visualizacion-II."
   ]
  }
 ],
 "metadata": {
  "interpreter": {
   "hash": "ef996a58dd4038b19127a5b342ff558a720418179ddf7c29df6339888c2ae8ac"
  },
  "kernelspec": {
   "display_name": "Python 3.9.7 ('base')",
   "language": "python",
   "name": "python3"
  },
  "language_info": {
   "codemirror_mode": {
    "name": "ipython",
    "version": 3
   },
   "file_extension": ".py",
   "mimetype": "text/x-python",
   "name": "python",
   "nbconvert_exporter": "python",
   "pygments_lexer": "ipython3",
   "version": "3.9.7"
  },
  "orig_nbformat": 4
 },
 "nbformat": 4,
 "nbformat_minor": 2
}
